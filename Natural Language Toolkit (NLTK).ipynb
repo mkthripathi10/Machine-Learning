{
 "cells": [
  {
   "cell_type": "code",
   "execution_count": 41,
   "id": "b24b0e72",
   "metadata": {},
   "outputs": [],
   "source": [
    "import pandas as pd\n",
    "import nltk\n",
    "# convert text data into numerical form\n",
    "from sklearn.feature_extraction.text import CountVectorizer\n",
    "from sklearn.naive_bayes import MultinomialNB\n",
    "from  sklearn.model_selection import train_test_split\n",
    "from sklearn.metrics import accuracy_score,confusion_matrix\n",
    "from nltk.corpus import stopwords\n",
    "from nltk.tokenize import word_tokenize\n",
    "import string\n"
   ]
  },
  {
   "cell_type": "code",
   "execution_count": 5,
   "id": "b22722f2",
   "metadata": {},
   "outputs": [],
   "source": [
    "data = {\n",
    "    \"Id\":[1,2,3,4],\n",
    "    \"Title\":[\"Text 1\",\"Text 2\",\"Text 3\",\"Text 4\"],\n",
    "    \"Text\":[\"Notebook 7 to learn about the new features and the actions to take if you are using extensions - 1\",\n",
    "            \"Notebook 7 to learn about the new features and the actions to take if you are using extensions - 2\",\n",
    "            \"Notebook 7 to learn about the new features and the actions to take if you are using extensions - 3\",\n",
    "            \"Notebook 7 to learn about the new features and the actions to take if you are using extensions - 4\"],\n",
    "    \"Status\":[0,1,1,0]\n",
    "}\n",
    "\n",
    "df = pd.DataFrame(data)"
   ]
  },
  {
   "cell_type": "code",
   "execution_count": 7,
   "id": "7c1a5b0a",
   "metadata": {},
   "outputs": [
    {
     "data": {
      "text/html": [
       "<div>\n",
       "<style scoped>\n",
       "    .dataframe tbody tr th:only-of-type {\n",
       "        vertical-align: middle;\n",
       "    }\n",
       "\n",
       "    .dataframe tbody tr th {\n",
       "        vertical-align: top;\n",
       "    }\n",
       "\n",
       "    .dataframe thead th {\n",
       "        text-align: right;\n",
       "    }\n",
       "</style>\n",
       "<table border=\"1\" class=\"dataframe\">\n",
       "  <thead>\n",
       "    <tr style=\"text-align: right;\">\n",
       "      <th></th>\n",
       "      <th>Id</th>\n",
       "      <th>Title</th>\n",
       "      <th>Text</th>\n",
       "      <th>Status</th>\n",
       "    </tr>\n",
       "  </thead>\n",
       "  <tbody>\n",
       "    <tr>\n",
       "      <th>0</th>\n",
       "      <td>1</td>\n",
       "      <td>Text 1</td>\n",
       "      <td>Notebook 7 to learn about the new features and...</td>\n",
       "      <td>0</td>\n",
       "    </tr>\n",
       "    <tr>\n",
       "      <th>1</th>\n",
       "      <td>2</td>\n",
       "      <td>Text 2</td>\n",
       "      <td>Notebook 7 to learn about the new features and...</td>\n",
       "      <td>1</td>\n",
       "    </tr>\n",
       "    <tr>\n",
       "      <th>2</th>\n",
       "      <td>3</td>\n",
       "      <td>Text 3</td>\n",
       "      <td>Notebook 7 to learn about the new features and...</td>\n",
       "      <td>1</td>\n",
       "    </tr>\n",
       "    <tr>\n",
       "      <th>3</th>\n",
       "      <td>4</td>\n",
       "      <td>Text 4</td>\n",
       "      <td>Notebook 7 to learn about the new features and...</td>\n",
       "      <td>0</td>\n",
       "    </tr>\n",
       "  </tbody>\n",
       "</table>\n",
       "</div>"
      ],
      "text/plain": [
       "   Id   Title                                               Text  Status\n",
       "0   1  Text 1  Notebook 7 to learn about the new features and...       0\n",
       "1   2  Text 2  Notebook 7 to learn about the new features and...       1\n",
       "2   3  Text 3  Notebook 7 to learn about the new features and...       1\n",
       "3   4  Text 4  Notebook 7 to learn about the new features and...       0"
      ]
     },
     "execution_count": 7,
     "metadata": {},
     "output_type": "execute_result"
    }
   ],
   "source": [
    "df.head()"
   ]
  },
  {
   "cell_type": "code",
   "execution_count": 15,
   "id": "32d97cae",
   "metadata": {},
   "outputs": [
    {
     "name": "stderr",
     "output_type": "stream",
     "text": [
      "[nltk_data] Downloading package punkt to\n",
      "[nltk_data]     C:\\Users\\10713310\\AppData\\Roaming\\nltk_data...\n",
      "[nltk_data]   Package punkt is already up-to-date!\n",
      "[nltk_data] Downloading package stopwords to\n",
      "[nltk_data]     C:\\Users\\10713310\\AppData\\Roaming\\nltk_data...\n",
      "[nltk_data]   Package stopwords is already up-to-date!\n"
     ]
    },
    {
     "data": {
      "text/plain": [
       "True"
      ]
     },
     "execution_count": 15,
     "metadata": {},
     "output_type": "execute_result"
    }
   ],
   "source": [
    "# download NLTK Data\n",
    "nltk.download('punkt') # Tonkenizer data used to splitting text into word\n",
    "nltk.download('stopwords') # a list of common words (is, am, are) remove from the words and reduce the text"
   ]
  },
  {
   "cell_type": "code",
   "execution_count": 22,
   "id": "ea02f014",
   "metadata": {},
   "outputs": [
    {
     "name": "stdout",
     "output_type": "stream",
     "text": [
      "{'i', \"you've\", 'of', \"that'll\", 'if', 'd', 'were', 'y', 'before', \"you'd\", 'herself', 'isn', \"she's\", 'didn', 'a', 'yourself', \"should've\", 'mustn', \"wasn't\", 'weren', 'each', 's', 'myself', 'up', \"don't\", 'no', 't', 'their', 'very', 'wouldn', 'below', 'on', 'mightn', 'themselves', \"hasn't\", 'he', 'did', 'in', 've', 'other', 'this', \"you'll\", \"you're\", 'is', 'for', 'himself', 'above', \"mightn't\", 'after', 'ours', 'such', 'has', 'only', 'just', 'couldn', \"mustn't\", 'being', 'most', 'by', 'but', 'was', 'be', 'they', \"hadn't\", 'when', 're', 'from', 'an', 'ain', 'so', 'doing', 'or', \"weren't\", 'those', 'through', 'into', 'any', 'o', \"shan't\", 'about', 'then', 'where', 'ourselves', 'can', 'aren', 'against', 'wasn', 'won', 'what', 'than', 'until', 'between', 'we', \"wouldn't\", 'and', 'under', 'why', 'to', 'over', 'she', 'hadn', 'your', 'do', 'should', 'hers', 'haven', 'here', 'had', \"it's\", 'me', 'the', 'as', 'all', 'will', \"haven't\", 'have', 'him', 'once', 'them', 'ma', 'few', 'itself', 'm', \"won't\", 'her', 'whom', 'which', 'you', 'yourselves', 'that', 'at', 'shan', 'are', 'too', 'it', 'having', 'my', 'with', 'am', 'll', 'there', 'nor', 'not', 'who', \"isn't\", \"shouldn't\", \"couldn't\", 'own', \"aren't\", 'down', 'don', 'while', 'been', 'more', 'theirs', 'his', 'off', 'further', 'both', 'shouldn', 'its', \"needn't\", 'some', 'during', 'how', 'hasn', 'now', 'our', 'these', 'same', 'because', 'again', 'out', \"didn't\", 'doesn', 'yours', 'does', 'needn', \"doesn't\"}\n"
     ]
    }
   ],
   "source": [
    "# preprocessing the text\n",
    "\n",
    "stop_words = set(stopwords.words('english'))\n",
    "print(stop_words)"
   ]
  },
  {
   "cell_type": "code",
   "execution_count": 50,
   "id": "95eff1bc",
   "metadata": {},
   "outputs": [],
   "source": [
    "def preprocessing(text):\n",
    "    #     Tokennizer and conver to lowercase\n",
    "    words = word_tokenize(text.lower())\n",
    "    #     remove punctuation and stopwords\n",
    "    words = [word for word in words if word.isalnum() and word not in stop_words]\n",
    "    return \"\".join(words)\n",
    "\n",
    "X = [preprocessing(text) for text in df[\"Text\"]]\n",
    "# XX = df[\"Text\"].apply(preprocessing)\n",
    "Y = df[\"Status\"]"
   ]
  },
  {
   "cell_type": "code",
   "execution_count": 52,
   "id": "75750ec5",
   "metadata": {},
   "outputs": [
    {
     "name": "stdout",
     "output_type": "stream",
     "text": [
      "0    notebook7learnnewfeaturesactionstakeusingexten...\n",
      "1    notebook7learnnewfeaturesactionstakeusingexten...\n",
      "2    notebook7learnnewfeaturesactionstakeusingexten...\n",
      "3    notebook7learnnewfeaturesactionstakeusingexten...\n",
      "Name: Text, dtype: object\n"
     ]
    }
   ],
   "source": [
    "print(XX)\n"
   ]
  },
  {
   "cell_type": "code",
   "execution_count": 33,
   "id": "552f79fb",
   "metadata": {},
   "outputs": [
    {
     "name": "stdout",
     "output_type": "stream",
     "text": [
      "  (0, 9)\t1\n",
      "  (0, 12)\t2\n",
      "  (0, 7)\t1\n",
      "  (0, 0)\t1\n",
      "  (0, 11)\t2\n",
      "  (0, 8)\t1\n",
      "  (0, 5)\t1\n",
      "  (0, 2)\t1\n",
      "  (0, 1)\t1\n",
      "  (0, 10)\t1\n",
      "  (0, 6)\t1\n",
      "  (0, 14)\t1\n",
      "  (0, 3)\t1\n",
      "  (0, 13)\t1\n",
      "  (0, 4)\t1\n",
      "  (1, 9)\t1\n",
      "  (1, 12)\t2\n",
      "  (1, 7)\t1\n",
      "  (1, 0)\t1\n",
      "  (1, 11)\t2\n",
      "  (1, 8)\t1\n",
      "  (1, 5)\t1\n",
      "  (1, 2)\t1\n",
      "  (1, 1)\t1\n",
      "  (1, 10)\t1\n",
      "  :\t:\n",
      "  (2, 8)\t1\n",
      "  (2, 5)\t1\n",
      "  (2, 2)\t1\n",
      "  (2, 1)\t1\n",
      "  (2, 10)\t1\n",
      "  (2, 6)\t1\n",
      "  (2, 14)\t1\n",
      "  (2, 3)\t1\n",
      "  (2, 13)\t1\n",
      "  (2, 4)\t1\n",
      "  (3, 9)\t1\n",
      "  (3, 12)\t2\n",
      "  (3, 7)\t1\n",
      "  (3, 0)\t1\n",
      "  (3, 11)\t2\n",
      "  (3, 8)\t1\n",
      "  (3, 5)\t1\n",
      "  (3, 2)\t1\n",
      "  (3, 1)\t1\n",
      "  (3, 10)\t1\n",
      "  (3, 6)\t1\n",
      "  (3, 14)\t1\n",
      "  (3, 3)\t1\n",
      "  (3, 13)\t1\n",
      "  (3, 4)\t1\n"
     ]
    }
   ],
   "source": [
    "# convert text into feature vectorizer\n",
    "vectorizer = CountVectorizer()\n",
    "XNew = vectorizer.fit_transform(X)\n",
    "\n",
    "print(XNew)\n"
   ]
  },
  {
   "cell_type": "code",
   "execution_count": 39,
   "id": "b37b2782",
   "metadata": {},
   "outputs": [],
   "source": [
    "# train and test\n",
    "\n",
    "XTrain,XTest,YTrain,YTest = train_test_split(XNew,Y,test_size =0.3, random_state=42)"
   ]
  },
  {
   "cell_type": "code",
   "execution_count": 40,
   "id": "e0880280",
   "metadata": {},
   "outputs": [
    {
     "name": "stdout",
     "output_type": "stream",
     "text": [
      "  (0, 9)\t1\n",
      "  (0, 12)\t2\n",
      "  (0, 7)\t1\n",
      "  (0, 0)\t1\n",
      "  (0, 11)\t2\n",
      "  (0, 8)\t1\n",
      "  (0, 5)\t1\n",
      "  (0, 2)\t1\n",
      "  (0, 1)\t1\n",
      "  (0, 10)\t1\n",
      "  (0, 6)\t1\n",
      "  (0, 14)\t1\n",
      "  (0, 3)\t1\n",
      "  (0, 13)\t1\n",
      "  (0, 4)\t1\n",
      "  (1, 9)\t1\n",
      "  (1, 12)\t2\n",
      "  (1, 7)\t1\n",
      "  (1, 0)\t1\n",
      "  (1, 11)\t2\n",
      "  (1, 8)\t1\n",
      "  (1, 5)\t1\n",
      "  (1, 2)\t1\n",
      "  (1, 1)\t1\n",
      "  (1, 10)\t1\n",
      "  (1, 6)\t1\n",
      "  (1, 14)\t1\n",
      "  (1, 3)\t1\n",
      "  (1, 13)\t1\n",
      "  (1, 4)\t1\n"
     ]
    }
   ],
   "source": [
    "print(XTrain)"
   ]
  },
  {
   "cell_type": "code",
   "execution_count": null,
   "id": "253844fa",
   "metadata": {},
   "outputs": [],
   "source": []
  }
 ],
 "metadata": {
  "kernelspec": {
   "display_name": "Python 3 (ipykernel)",
   "language": "python",
   "name": "python3"
  },
  "language_info": {
   "codemirror_mode": {
    "name": "ipython",
    "version": 3
   },
   "file_extension": ".py",
   "mimetype": "text/x-python",
   "name": "python",
   "nbconvert_exporter": "python",
   "pygments_lexer": "ipython3",
   "version": "3.11.5"
  }
 },
 "nbformat": 4,
 "nbformat_minor": 5
}
