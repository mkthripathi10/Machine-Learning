{
 "cells": [
  {
   "cell_type": "code",
   "execution_count": 1,
   "id": "9e83a337",
   "metadata": {},
   "outputs": [],
   "source": [
    "import pandas as pd\n",
    "import matplotlib.pyplot as  plt\n",
    "import seaborn as sns\n",
    "from sklearn.preprocessing import StandardScaler\n",
    "from sklearn.model_selection import train_test_split"
   ]
  },
  {
   "cell_type": "code",
   "execution_count": 2,
   "id": "fa9b3e54",
   "metadata": {},
   "outputs": [],
   "source": [
    "data = pd.read_csv(\"heart.csv\")"
   ]
  },
  {
   "cell_type": "code",
   "execution_count": 3,
   "id": "1efb22ad",
   "metadata": {},
   "outputs": [
    {
     "data": {
      "text/html": [
       "<div>\n",
       "<style scoped>\n",
       "    .dataframe tbody tr th:only-of-type {\n",
       "        vertical-align: middle;\n",
       "    }\n",
       "\n",
       "    .dataframe tbody tr th {\n",
       "        vertical-align: top;\n",
       "    }\n",
       "\n",
       "    .dataframe thead th {\n",
       "        text-align: right;\n",
       "    }\n",
       "</style>\n",
       "<table border=\"1\" class=\"dataframe\">\n",
       "  <thead>\n",
       "    <tr style=\"text-align: right;\">\n",
       "      <th></th>\n",
       "      <th>age</th>\n",
       "      <th>sex</th>\n",
       "      <th>cp</th>\n",
       "      <th>trestbps</th>\n",
       "      <th>chol</th>\n",
       "      <th>fbs</th>\n",
       "      <th>restecg</th>\n",
       "      <th>thalach</th>\n",
       "      <th>exang</th>\n",
       "      <th>oldpeak</th>\n",
       "      <th>slope</th>\n",
       "      <th>ca</th>\n",
       "      <th>thal</th>\n",
       "      <th>target</th>\n",
       "    </tr>\n",
       "  </thead>\n",
       "  <tbody>\n",
       "    <tr>\n",
       "      <th>0</th>\n",
       "      <td>63.0</td>\n",
       "      <td>1.0</td>\n",
       "      <td>3.0</td>\n",
       "      <td>145.0</td>\n",
       "      <td>233.0</td>\n",
       "      <td>1.0</td>\n",
       "      <td>0.0</td>\n",
       "      <td>150.0</td>\n",
       "      <td>0.0</td>\n",
       "      <td>2.3</td>\n",
       "      <td>0.0</td>\n",
       "      <td>0.0</td>\n",
       "      <td>1.0</td>\n",
       "      <td>1</td>\n",
       "    </tr>\n",
       "    <tr>\n",
       "      <th>1</th>\n",
       "      <td>37.0</td>\n",
       "      <td>1.0</td>\n",
       "      <td>2.0</td>\n",
       "      <td>130.0</td>\n",
       "      <td>250.0</td>\n",
       "      <td>0.0</td>\n",
       "      <td>1.0</td>\n",
       "      <td>187.0</td>\n",
       "      <td>0.0</td>\n",
       "      <td>3.5</td>\n",
       "      <td>0.0</td>\n",
       "      <td>0.0</td>\n",
       "      <td>2.0</td>\n",
       "      <td>1</td>\n",
       "    </tr>\n",
       "    <tr>\n",
       "      <th>2</th>\n",
       "      <td>41.0</td>\n",
       "      <td>0.0</td>\n",
       "      <td>1.0</td>\n",
       "      <td>130.0</td>\n",
       "      <td>204.0</td>\n",
       "      <td>0.0</td>\n",
       "      <td>0.0</td>\n",
       "      <td>172.0</td>\n",
       "      <td>0.0</td>\n",
       "      <td>1.4</td>\n",
       "      <td>2.0</td>\n",
       "      <td>0.0</td>\n",
       "      <td>2.0</td>\n",
       "      <td>1</td>\n",
       "    </tr>\n",
       "    <tr>\n",
       "      <th>3</th>\n",
       "      <td>56.0</td>\n",
       "      <td>1.0</td>\n",
       "      <td>1.0</td>\n",
       "      <td>120.0</td>\n",
       "      <td>236.0</td>\n",
       "      <td>0.0</td>\n",
       "      <td>1.0</td>\n",
       "      <td>178.0</td>\n",
       "      <td>0.0</td>\n",
       "      <td>0.8</td>\n",
       "      <td>2.0</td>\n",
       "      <td>0.0</td>\n",
       "      <td>2.0</td>\n",
       "      <td>1</td>\n",
       "    </tr>\n",
       "    <tr>\n",
       "      <th>4</th>\n",
       "      <td>57.0</td>\n",
       "      <td>0.0</td>\n",
       "      <td>0.0</td>\n",
       "      <td>120.0</td>\n",
       "      <td>354.0</td>\n",
       "      <td>0.0</td>\n",
       "      <td>1.0</td>\n",
       "      <td>163.0</td>\n",
       "      <td>1.0</td>\n",
       "      <td>0.6</td>\n",
       "      <td>2.0</td>\n",
       "      <td>0.0</td>\n",
       "      <td>2.0</td>\n",
       "      <td>1</td>\n",
       "    </tr>\n",
       "  </tbody>\n",
       "</table>\n",
       "</div>"
      ],
      "text/plain": [
       "    age  sex   cp  trestbps   chol  fbs  restecg  thalach  exang  oldpeak  \\\n",
       "0  63.0  1.0  3.0     145.0  233.0  1.0      0.0    150.0    0.0      2.3   \n",
       "1  37.0  1.0  2.0     130.0  250.0  0.0      1.0    187.0    0.0      3.5   \n",
       "2  41.0  0.0  1.0     130.0  204.0  0.0      0.0    172.0    0.0      1.4   \n",
       "3  56.0  1.0  1.0     120.0  236.0  0.0      1.0    178.0    0.0      0.8   \n",
       "4  57.0  0.0  0.0     120.0  354.0  0.0      1.0    163.0    1.0      0.6   \n",
       "\n",
       "   slope   ca  thal  target  \n",
       "0    0.0  0.0   1.0       1  \n",
       "1    0.0  0.0   2.0       1  \n",
       "2    2.0  0.0   2.0       1  \n",
       "3    2.0  0.0   2.0       1  \n",
       "4    2.0  0.0   2.0       1  "
      ]
     },
     "execution_count": 3,
     "metadata": {},
     "output_type": "execute_result"
    }
   ],
   "source": [
    "data.head()"
   ]
  },
  {
   "cell_type": "code",
   "execution_count": 5,
   "id": "ea190282",
   "metadata": {},
   "outputs": [
    {
     "data": {
      "text/plain": [
       "1"
      ]
     },
     "execution_count": 5,
     "metadata": {},
     "output_type": "execute_result"
    }
   ],
   "source": [
    "#check duplicate data\n",
    "data.duplicated().sum()"
   ]
  },
  {
   "cell_type": "code",
   "execution_count": 6,
   "id": "4721914d",
   "metadata": {},
   "outputs": [],
   "source": [
    "#remove duplicated\n",
    "data.drop_duplicates(inplace=True)"
   ]
  },
  {
   "cell_type": "code",
   "execution_count": 61,
   "id": "59182ea5",
   "metadata": {},
   "outputs": [
    {
     "data": {
      "text/plain": [
       "age         0\n",
       "sex         0\n",
       "cp          0\n",
       "trestbps    0\n",
       "chol        0\n",
       "fbs         0\n",
       "restecg     0\n",
       "thalach     0\n",
       "exang       0\n",
       "oldpeak     0\n",
       "slope       0\n",
       "ca          0\n",
       "thal        3\n",
       "target      0\n",
       "dtype: int64"
      ]
     },
     "execution_count": 61,
     "metadata": {},
     "output_type": "execute_result"
    }
   ],
   "source": [
    "# check null value\n",
    "data.isnull().sum()"
   ]
  },
  {
   "cell_type": "code",
   "execution_count": 8,
   "id": "3e17c6f2",
   "metadata": {},
   "outputs": [
    {
     "name": "stdout",
     "output_type": "stream",
     "text": [
      "<class 'pandas.core.frame.DataFrame'>\n",
      "Index: 302 entries, 0 to 302\n",
      "Data columns (total 14 columns):\n",
      " #   Column    Non-Null Count  Dtype  \n",
      "---  ------    --------------  -----  \n",
      " 0   age       298 non-null    float64\n",
      " 1   sex       292 non-null    float64\n",
      " 2   cp        299 non-null    float64\n",
      " 3   trestbps  298 non-null    float64\n",
      " 4   chol      294 non-null    float64\n",
      " 5   fbs       301 non-null    float64\n",
      " 6   restecg   299 non-null    float64\n",
      " 7   thalach   295 non-null    float64\n",
      " 8   exang     298 non-null    float64\n",
      " 9   oldpeak   301 non-null    float64\n",
      " 10  slope     299 non-null    float64\n",
      " 11  ca        299 non-null    float64\n",
      " 12  thal      299 non-null    float64\n",
      " 13  target    302 non-null    int64  \n",
      "dtypes: float64(13), int64(1)\n",
      "memory usage: 35.4 KB\n"
     ]
    }
   ],
   "source": [
    "data.info()"
   ]
  },
  {
   "cell_type": "code",
   "execution_count": 62,
   "id": "f1923c9d",
   "metadata": {},
   "outputs": [
    {
     "name": "stderr",
     "output_type": "stream",
     "text": [
      "C:\\Users\\10713310\\AppData\\Local\\anaconda3\\Lib\\site-packages\\seaborn\\axisgrid.py:118: UserWarning: The figure layout has changed to tight\n",
      "  self._figure.tight_layout(*args, **kwargs)\n"
     ]
    },
    {
     "data": {
      "image/png": "[encoded data removed]",
      "text/plain": [
       "<Figure size 500x500 with 1 Axes>"
      ]
     },
     "metadata": {},
     "output_type": "display_data"
    }
   ],
   "source": [
    "sns.displot(data.thal)\n",
    "plt.show()"
   ]
  },
  {
   "cell_type": "code",
   "execution_count": 28,
   "id": "947c636e",
   "metadata": {},
   "outputs": [],
   "source": [
    "# handle missing value with the help of plot\n",
    "\n",
    "x = data.age.mean()\n",
    "data[\"age\"].fillna(data.age.mean(),inplace= True)"
   ]
  },
  {
   "cell_type": "code",
   "execution_count": 32,
   "id": "0ddba051",
   "metadata": {},
   "outputs": [],
   "source": [
    "data[\"sex\"].fillna(data.sex.mode()[0],inplace=True)"
   ]
  },
  {
   "cell_type": "code",
   "execution_count": 35,
   "id": "1ad3ecbf",
   "metadata": {},
   "outputs": [],
   "source": [
    "data[\"cp\"].fillna(data.cp.mode()[0],inplace=True)"
   ]
  },
  {
   "cell_type": "code",
   "execution_count": 40,
   "id": "560172ac",
   "metadata": {},
   "outputs": [],
   "source": [
    "data[\"trestbps\"].fillna(data.trestbps.median(),inplace=True)"
   ]
  },
  {
   "cell_type": "code",
   "execution_count": 42,
   "id": "d1b0cf77",
   "metadata": {},
   "outputs": [],
   "source": [
    "data[\"chol\"].fillna(data.chol.median(),inplace=True)"
   ]
  },
  {
   "cell_type": "code",
   "execution_count": 44,
   "id": "ac764e25",
   "metadata": {},
   "outputs": [],
   "source": [
    "data[\"fbs\"].fillna(data.fbs.mode()[0],inplace=True)"
   ]
  },
  {
   "cell_type": "code",
   "execution_count": 47,
   "id": "6eba0305",
   "metadata": {},
   "outputs": [],
   "source": [
    "data[\"restecg\"].fillna(data.restecg.mode()[0],inplace=True)"
   ]
  },
  {
   "cell_type": "code",
   "execution_count": 50,
   "id": "9ffd46bf",
   "metadata": {},
   "outputs": [],
   "source": [
    "data[\"thalach\"].fillna(data.thalach.mean(),inplace=True)"
   ]
  },
  {
   "cell_type": "code",
   "execution_count": 53,
   "id": "cd2a2fce",
   "metadata": {},
   "outputs": [],
   "source": [
    "data.exang.fillna(data.exang.mode()[0],inplace=True)"
   ]
  },
  {
   "cell_type": "code",
   "execution_count": 55,
   "id": "48aaa505",
   "metadata": {},
   "outputs": [],
   "source": [
    "data.oldpeak.fillna(data.oldpeak.median(),inplace=True)"
   ]
  },
  {
   "cell_type": "code",
   "execution_count": 63,
   "id": "e1c4c450",
   "metadata": {},
   "outputs": [],
   "source": [
    "data.thal.fillna(data.thal.mode()[0],inplace=True)"
   ]
  },
  {
   "cell_type": "code",
   "execution_count": 64,
   "id": "d6bfc616",
   "metadata": {},
   "outputs": [],
   "source": [
    "# seprating feature and target\n",
    "x= data.drop(columns=\"target\",axis =1)\n",
    "y =data[\"target\"]"
   ]
  },
  {
   "cell_type": "code",
   "execution_count": 67,
   "id": "fc6526ac",
   "metadata": {},
   "outputs": [],
   "source": [
    "stand = StandardScaler()"
   ]
  },
  {
   "cell_type": "code",
   "execution_count": 68,
   "id": "fe1e8c3a",
   "metadata": {},
   "outputs": [],
   "source": [
    "xStand = stand.fit_transform(x)"
   ]
  },
  {
   "cell_type": "code",
   "execution_count": 69,
   "id": "c7f9c688",
   "metadata": {},
   "outputs": [
    {
     "name": "stdout",
     "output_type": "stream",
     "text": [
      "[[ 0.96204746  0.65671883  1.99039486 ... -2.27799015 -0.70964826\n",
      "  -2.16719975]\n",
      " [-1.93719164  0.65671883  1.01931368 ... -2.27799015 -0.70964826\n",
      "  -0.51859944]\n",
      " [-1.49115485 -1.52272168  0.04823251 ...  0.96707129 -0.70964826\n",
      "  -0.51859944]\n",
      " ...\n",
      " [ 1.51959344  0.65671883 -0.92284866 ...  0.96707129 -0.70964826\n",
      "   1.13000088]\n",
      " [ 0.29299228  0.65671883 -0.92284866 ... -0.65545943  0.28715999\n",
      "   1.13000088]\n",
      " [ 0.29299228 -1.52272168  0.04823251 ... -0.65545943  0.28715999\n",
      "  -0.51859944]]\n"
     ]
    }
   ],
   "source": [
    "print(xStand)"
   ]
  },
  {
   "cell_type": "code",
   "execution_count": 70,
   "id": "7ce9424e",
   "metadata": {},
   "outputs": [],
   "source": [
    "XTrain,Xtest,YTrain,YTest = train_test_split(xStand,y,test_size=0.2,random_state=2)"
   ]
  },
  {
   "cell_type": "code",
   "execution_count": 71,
   "id": "ff9a5a41",
   "metadata": {},
   "outputs": [
    {
     "name": "stdout",
     "output_type": "stream",
     "text": [
      "[[ 0.62751987  0.65671883 -0.92284866 ... -0.65545943  1.28396824\n",
      "   1.13000088]\n",
      " [ 1.63110264  0.65671883  1.99039486 ... -0.65545943  0.28715999\n",
      "  -0.51859944]\n",
      " [-0.0415353   0.65671883 -0.92284866 ...  0.96707129 -0.70964826\n",
      "  -0.51859944]\n",
      " ...\n",
      " [-2.82926521  0.65671883  0.04823251 ...  0.96707129 -0.70964826\n",
      "  -0.51859944]\n",
      " [-0.48757209 -1.52272168  1.01931368 ... -0.65545943 -0.70964826\n",
      "  -0.51859944]\n",
      " [-0.1530445   0.65671883 -0.92284866 ... -2.27799015 -0.70964826\n",
      "   1.13000088]]\n"
     ]
    }
   ],
   "source": [
    "print(XTrain)"
   ]
  },
  {
   "cell_type": "code",
   "execution_count": null,
   "id": "57aca1a8",
   "metadata": {},
   "outputs": [],
   "source": []
  }
 ],
 "metadata": {
  "kernelspec": {
   "display_name": "Python 3 (ipykernel)",
   "language": "python",
   "name": "python3"
  },
  "language_info": {
   "codemirror_mode": {
    "name": "ipython",
    "version": 3
   },
   "file_extension": ".py",
   "mimetype": "text/x-python",
   "name": "python",
   "nbconvert_exporter": "python",
   "pygments_lexer": "ipython3",
   "version": "3.11.5"
  }
 },
 "nbformat": 4,
 "nbformat_minor": 5
}
